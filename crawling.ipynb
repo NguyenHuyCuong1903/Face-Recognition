{
 "cells": [
  {
   "cell_type": "code",
   "execution_count": 1,
   "metadata": {},
   "outputs": [],
   "source": [
    "import sys\n",
    "import os\n",
    "from selenium import webdriver\n",
    "from selenium.webdriver.common.by import By\n",
    "from selenium.webdriver.common.keys import Keys\n",
    "import time\n",
    "from PIL import Image\n",
    "import urllib"
   ]
  },
  {
   "cell_type": "code",
   "execution_count": 2,
   "metadata": {},
   "outputs": [],
   "source": [
    "chrome_options = webdriver.ChromeOptions()\n",
    "chrome_options.add_argument('--headless')\n",
    "chrome_options.add_argument('--no-sandbox')\n",
    "chrome_options.add_argument('--disable-dev-shm-usage')\n",
    "driver = webdriver.Chrome(chrome_options)\n",
    "driver.get('https://www.google.com.vn/?hl=vi')"
   ]
  },
  {
   "cell_type": "code",
   "execution_count": 3,
   "metadata": {},
   "outputs": [],
   "source": [
    "l = open('celebrity.txt', 'r')\n",
    "try:\n",
    "    for i in l.readlines():\n",
    "        title = i.strip('\\n')\n",
    "        os.mkdir(f'./Img/{title}')\n",
    "except:\n",
    "    pass"
   ]
  },
  {
   "cell_type": "code",
   "execution_count": 5,
   "metadata": {},
   "outputs": [],
   "source": [
    "def scroll_to_bottom():\n",
    "        '''Scroll to the bottom of the page\n",
    "        '''\n",
    "        last_height = driver.execute_script('return document.body.scrollHeight')\n",
    "        while True:\n",
    "            driver.execute_script('window.scrollTo(0, document.body.scrollHeight)')\n",
    "            time.sleep(2)\n",
    "\n",
    "            new_height = driver.execute_script('return document.body.scrollHeight')\n",
    "            try:\n",
    "                element = driver.find_element(\n",
    "                    by=By.CSS_SELECTOR,\n",
    "                    value='.YstHxe input'\n",
    "                )\n",
    "                element.click()\n",
    "                time.sleep(2)\n",
    "            except:\n",
    "                pass\n",
    "\n",
    "            try:\n",
    "                element = driver.find_element(\n",
    "                    by=By.CSS_SELECTOR,\n",
    "                    value='.LZ4I'\n",
    "                )\n",
    "                element.click()\n",
    "                time.sleep(2)\n",
    "            except:\n",
    "                pass\n",
    "\n",
    "            if new_height == last_height:\n",
    "                break\n",
    "\n",
    "            last_height = new_height"
   ]
  },
  {
   "cell_type": "code",
   "execution_count": 6,
   "metadata": {},
   "outputs": [],
   "source": [
    "l = open('celebrity.txt', 'r')\n",
    "for i in l.readlines():\n",
    "    title = i.strip('\\n')\n",
    "    cnt = 0\n",
    "    driver.get('https://images.google.com/')\n",
    "    element = driver.find_element(By.CSS_SELECTOR, '.gLFyf')\n",
    "    element.send_keys(title + \" face\")\n",
    "    element.send_keys(Keys.ENTER)\n",
    "    scroll_to_bottom()\n",
    "    driver.implicitly_wait(2)\n",
    "    imgResults = driver.find_elements(By.XPATH,\"//img[contains(@class,'rg_i Q4LuWd')]\")\n",
    "    driver.implicitly_wait(1)\n",
    "    src = []\n",
    "    for img in imgResults:\n",
    "        src.append(img.get_attribute('src'))\n",
    "    for i in range(100):\n",
    "        try:\n",
    "            urllib.request.urlretrieve(str(src[i]),\"Img/{}/img{}.png\".format(title,cnt))\n",
    "            cnt += 1\n",
    "        except:\n",
    "            pass"
   ]
  }
 ],
 "metadata": {
  "kernelspec": {
   "display_name": "Python 3",
   "language": "python",
   "name": "python3"
  },
  "language_info": {
   "codemirror_mode": {
    "name": "ipython",
    "version": 3
   },
   "file_extension": ".py",
   "mimetype": "text/x-python",
   "name": "python",
   "nbconvert_exporter": "python",
   "pygments_lexer": "ipython3",
   "version": "3.9.18"
  },
  "orig_nbformat": 4
 },
 "nbformat": 4,
 "nbformat_minor": 2
}
